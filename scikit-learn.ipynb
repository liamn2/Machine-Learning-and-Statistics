{
 "cells": [
  {
   "cell_type": "markdown",
   "metadata": {},
   "source": [
    "<center><h1>Scikit-Learn Project</h1></center>\n",
    "<center>by</center>\n",
    "<center>Liam Nutley</center>"
   ]
  },
  {
   "cell_type": "markdown",
   "metadata": {},
   "source": [
    "Scikit-learn is a software machine learning library for the Python programming language. It features various classification, regression and clustering algorithms including support vector machines, random forests, gradient boosting, k-means and DBSCAN. These algorithms are used to mimic human brain activity in order make educated guesses on the successive output by reading and extrapolating information from the previous input. The idea behind the machine learning process is to create new data that can be used to demonstrate a predictive model for process output. All algorithms within the scikit-learn library are based on probabilistic and statistical mathematical methods, here applied for their predictive purposes. "
   ]
  },
  {
   "cell_type": "markdown",
   "metadata": {},
   "source": [
    "The first of three scikit-learn algorithms we will discuss is the SVM algorithm. According to the scikit team; Support vector machines (SVMs) are a set of supervised learning methods used for classification, regression and outliers detection. The idea of classification here is to fit the data into as defined a set as we possibly can in order to under it more. Regression refers to the relationship between independent and dependent variables. The dependent variables here are the outcome of the scenario and the independent variables are the variables which lead to our outcome. Regression analysis is used to create predictive models that can forecast outcomes. "
   ]
  },
  {
   "cell_type": "markdown",
   "metadata": {},
   "source": [
    "<center><img src=\"https://j.gifs.com/vnpdgr.gif\" alt=\"SVM\" width=\"300px\" align=\"center\"/></center>\n",
    "\n",
    "<font size=\"1\"><b>Fig:</b> SVM with Polynomial kernel </font>"
   ]
  },
  {
   "cell_type": "markdown",
   "metadata": {},
   "source": [
    "The next algorithm we will look at is the K-Nearest Neighbour algorithm. This algorithm produces predictive values by taking a data point and pelating it to its nearest neighbour, that is, the data point closest to it. From this, it can then create new, forecasted data points that can strengthen the overall statistical model. All the algorithms in the scikit learn library help with the aforementioned issues of both classification and regression and the K Nearest Neighbour algorithm is no exception. Developed by Evelyn Fix and Joseph Hodges, the kNN Regression outputs the average of all k Nearest data points of the set. "
   ]
  },
  {
   "cell_type": "code",
   "execution_count": 7,
   "metadata": {},
   "outputs": [
    {
     "data": {
      "text/plain": [
       "array([[0, 1],\n",
       "       [1, 0],\n",
       "       [2, 1],\n",
       "       [3, 4],\n",
       "       [4, 3],\n",
       "       [5, 4]], dtype=int64)"
      ]
     },
     "execution_count": 7,
     "metadata": {},
     "output_type": "execute_result"
    }
   ],
   "source": [
    "# An example of importing the algorithm from scikit learn and applying it.\n",
    "from sklearn.neighbors import NearestNeighbors\n",
    "import numpy as np\n",
    "X = np.array([[-1, -1], [-2, -1], [-3, -2], [1, 1], [2, 1], [3, 2]])\n",
    "nbrs = NearestNeighbors(n_neighbors=2, algorithm='ball_tree').fit(X)\n",
    "distances, indices = nbrs.kneighbors(X)\n",
    "indices"
   ]
  },
  {
   "cell_type": "markdown",
   "metadata": {},
   "source": [
    "Finally, the last algorithm we will cover is the supervised neural network model algorithm. This algorithm, owing much to psychology and neurology, takes the idea of physical neural pathways in the brain and transposes the idea to algorithms. The algorithm begins with 'neurons', our initial data points. It then maps these points to a hidden layer, where they are passed through a weighted sum equation. From here, the new values are mapped to our output layer. A benefit of this method is that the hidden layers can be numerous and allow for more complex data processing and better outcome results."
   ]
  },
  {
   "cell_type": "code",
   "execution_count": 11,
   "metadata": {},
   "outputs": [
    {
     "data": {
      "text/plain": [
       "MLPClassifier(alpha=1e-05, hidden_layer_sizes=(5, 2), random_state=1,\n",
       "              solver='lbfgs')"
      ]
     },
     "execution_count": 11,
     "metadata": {},
     "output_type": "execute_result"
    }
   ],
   "source": [
    "# Example of the neural network algorithm.\n",
    "from sklearn.neural_network import MLPClassifier\n",
    "X = [[0., 0.], [1., 1.]]\n",
    "y = [0, 1]\n",
    "clf = MLPClassifier(solver='lbfgs', alpha=1e-5,\n",
    "                     hidden_layer_sizes=(5, 2), random_state=1)\n",
    "# Here, we can add our required number of hidden layers.\n",
    "clf.fit(X, y)\n",
    "MLPClassifier(alpha=1e-05, hidden_layer_sizes=(5, 2), random_state=1,\n",
    "              solver='lbfgs')\n"
   ]
  },
  {
   "cell_type": "markdown",
   "metadata": {},
   "source": [
    "<h1>References</h1>"
   ]
  },
  {
   "cell_type": "markdown",
   "metadata": {},
   "source": [
    "<bp><b>Scikit-Learn:</b> <i>Neural Network Models</i> - https://scikit-learn.org/stable/modules/neural_networks_supervised.html</bp><br>\n",
    "<bp><b>Scikit-Learn:</b> <i>Nearest Neighbours</i> - https://scikit-learn.org/stable/modules/neighbors.html</bp><br>\n",
    "<bp><b>Scikit-Learn:</b> <i>SVM: Support Vector Machines</i> - https://scikit-learn.org/stable/modules/svm.html</bp>"
   ]
  },
  {
   "cell_type": "code",
   "execution_count": null,
   "metadata": {},
   "outputs": [],
   "source": []
  }
 ],
 "metadata": {
  "kernelspec": {
   "display_name": "Python 3",
   "language": "python",
   "name": "python3"
  },
  "language_info": {
   "codemirror_mode": {
    "name": "ipython",
    "version": 3
   },
   "file_extension": ".py",
   "mimetype": "text/x-python",
   "name": "python",
   "nbconvert_exporter": "python",
   "pygments_lexer": "ipython3",
   "version": "3.8.5"
  }
 },
 "nbformat": 4,
 "nbformat_minor": 4
}
