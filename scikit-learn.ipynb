{
 "cells": [
  {
   "cell_type": "code",
   "execution_count": 3,
   "metadata": {},
   "outputs": [],
   "source": [
    "#This is my first Jupyter notebook for Machine Learning and Statistics\n"
   ]
  },
  {
   "cell_type": "code",
   "execution_count": 4,
   "metadata": {},
   "outputs": [],
   "source": [
    "#Include a Jupyter notebook called scikit-learn.ipynb that contains the following.\n",
    "\n",
    "#A clear and concise overview of the scikit-learn Python library.\n",
    "\n",
    "#Demonstrations of three interesting scikit-learn algorithms. You may choose\n",
    "#these yourself, based on what is covered in class or otherwise. Note that the\n",
    "#demonstrations are at your discretion – you may choose to have an overall spread\n",
    "#of examples across the library or pick a particular part that you find interesting.\n",
    "\n",
    "#Appropriate plots and other visualisations to enhance your notebook for viewers."
   ]
  },
  {
   "cell_type": "code",
   "execution_count": null,
   "metadata": {},
   "outputs": [],
   "source": []
  }
 ],
 "metadata": {
  "kernelspec": {
   "display_name": "Python 3",
   "language": "python",
   "name": "python3"
  },
  "language_info": {
   "codemirror_mode": {
    "name": "ipython",
    "version": 3
   },
   "file_extension": ".py",
   "mimetype": "text/x-python",
   "name": "python",
   "nbconvert_exporter": "python",
   "pygments_lexer": "ipython3",
   "version": "3.8.5"
  }
 },
 "nbformat": 4,
 "nbformat_minor": 4
}
