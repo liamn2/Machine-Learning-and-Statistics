{
 "cells": [
  {
   "cell_type": "markdown",
   "metadata": {},
   "source": [
    "<center><h1>SciPy Stats Project</h1></center>\n",
    "<center>by</center>\n",
    "<center>Liam Nutley</center>\n"
   ]
  },
  {
   "cell_type": "markdown",
   "metadata": {},
   "source": [
    "The SciPy Stats library consists of a collection of statistical functions and probability distributions used in coding for machine learning. It contains a large variety of both discrete and continuous distributions. Many statistical tests can be made using the built-in functions in SciPy Stats. It incorporates summary and frequency statistics. Summary, providing an output summary of the data set and frequency determining prevalence within the data set. One can also employ kernel density estimation through the library which is used to estimate the probability density function of a random variable. A probability density function takes our random variable and relates its probability of occurrence to our sample data set. "
   ]
  },
  {
   "cell_type": "markdown",
   "metadata": {},
   "source": [
    "SciPy Stats also provides a tool for data masking. Data masking is a tool employed to hide data in such a way that only an authorized user can work with that data. It does not encrypt the data as such, it just provides a means of obfuscating the data so that only the authorised user can understand it. For example, when making an online purchase and determining which of your bank cards you would like to use, the website provides only the last four digits of your cards. This is a form of data masking as the user understands the card that the last 4 digits correspond to, but an unauthorised user would not know the first twelve digits of the card number."
   ]
  },
  {
   "cell_type": "markdown",
   "metadata": {},
   "source": [
    "SciPy Stats contains many examples of correlation functions. Correlation functions detmine the relationship between two random variables with respect to a particular metric employed. This type of function has applications in everything from financial analysis to quantum field theory. Correlation functions were developed from the the work of British mathematician George Green, these functions commonly being known as Green's Functions in quantum mechanics and quntum field theory. "
   ]
  },
  {
   "cell_type": "markdown",
   "metadata": {},
   "source": [
    "For this project, I will be performing an ANOVA test. ANOVA stands for 'Analysis of Variation'. It is used to compare more than two statistical tests to each other. ANOVA is used for more than 2 tests, for comparing two tests, the T-test method is used. The ANOVA test has important assumptions that must be satisfied in order for the associated p-value to be valid. These are the three rules we must adhere to:\n",
    "\n",
    "1. The samples are independent.\n",
    "\n",
    "2. Each sample is from a normally distributed population.\n",
    "\n",
    "3. The population standard deviations of the groups are all equal. This property is known as homoscedasticity."
   ]
  },
  {
   "cell_type": "code",
   "execution_count": 28,
   "metadata": {},
   "outputs": [
    {
     "data": {
      "text/plain": [
       "array([ 119.26450218,   49.16004009, 1180.16118225,  960.0071468 ])"
      ]
     },
     "execution_count": 28,
     "metadata": {},
     "output_type": "execute_result"
    }
   ],
   "source": [
    "from scipy.stats import f_oneway\n",
    "import numpy as np\n",
    "\n",
    "a = np.array([[5.1, 3.5, 1.4, 0.2],       # Iris Virginica\n",
    "               [4.9, 3. , 1.4, 0.2],\n",
    "               [4.7, 3.2, 1.3, 0.2],\n",
    "               [4.6, 3.1, 1.5, 0.2],\n",
    "               [5. , 3.6, 1.4, 0.2],\n",
    "               [5.4, 3.9, 1.7, 0.4],\n",
    "               [4.6, 3.4, 1.4, 0.3],\n",
    "               [5. , 3.4, 1.5, 0.2],\n",
    "               [4.4, 2.9, 1.4, 0.2],\n",
    "               [4.9, 3.1, 1.5, 0.1],\n",
    "               [5.4, 3.7, 1.5, 0.2],\n",
    "               [4.8, 3.4, 1.6, 0.2],\n",
    "               [4.8, 3. , 1.4, 0.1],\n",
    "               [4.3, 3. , 1.1, 0.1],\n",
    "               [5.8, 4. , 1.2, 0.2],\n",
    "               [5.7, 4.4, 1.5, 0.4],\n",
    "               [5.4, 3.9, 1.3, 0.4],\n",
    "               [5.1, 3.5, 1.4, 0.3],\n",
    "               [5.7, 3.8, 1.7, 0.3],\n",
    "               [5.1, 3.8, 1.5, 0.3],\n",
    "               [5.4, 3.4, 1.7, 0.2],\n",
    "               [5.1, 3.7, 1.5, 0.4],\n",
    "               [4.6, 3.6, 1. , 0.2],\n",
    "               [5.1, 3.3, 1.7, 0.5],\n",
    "               [4.8, 3.4, 1.9, 0.2],\n",
    "               [5. , 3. , 1.6, 0.2],\n",
    "               [5. , 3.4, 1.6, 0.4],\n",
    "               [5.2, 3.5, 1.5, 0.2],\n",
    "               [5.2, 3.4, 1.4, 0.2],\n",
    "               [4.7, 3.2, 1.6, 0.2],\n",
    "               [4.8, 3.1, 1.6, 0.2],\n",
    "               [5.4, 3.4, 1.5, 0.4],\n",
    "               [5.2, 4.1, 1.5, 0.1],\n",
    "               [5.5, 4.2, 1.4, 0.2],\n",
    "               [4.9, 3.1, 1.5, 0.2],\n",
    "               [5. , 3.2, 1.2, 0.2],\n",
    "               [5.5, 3.5, 1.3, 0.2],\n",
    "               [4.9, 3.6, 1.4, 0.1],\n",
    "               [4.4, 3. , 1.3, 0.2],\n",
    "               [5.1, 3.4, 1.5, 0.2],\n",
    "               [5. , 3.5, 1.3, 0.3],\n",
    "               [4.5, 2.3, 1.3, 0.3],\n",
    "               [4.4, 3.2, 1.3, 0.2],\n",
    "               [5. , 3.5, 1.6, 0.6],\n",
    "               [5.1, 3.8, 1.9, 0.4],\n",
    "               [4.8, 3. , 1.4, 0.3],\n",
    "               [5.1, 3.8, 1.6, 0.2],\n",
    "               [4.6, 3.2, 1.4, 0.2],\n",
    "               [5.3, 3.7, 1.5, 0.2],\n",
    "               [5. , 3.3, 1.4, 0.2]])\n",
    "\n",
    "b = np.array([[7. , 3.2, 4.7, 1.4],                  # Iris Versicolor\n",
    "           [6.4, 3.2, 4.5, 1.5],\n",
    "           [6.9, 3.1, 4.9, 1.5],\n",
    "           [5.5, 2.3, 4. , 1.3],\n",
    "           [6.5, 2.8, 4.6, 1.5],\n",
    "           [5.7, 2.8, 4.5, 1.3],\n",
    "           [6.3, 3.3, 4.7, 1.6],\n",
    "           [4.9, 2.4, 3.3, 1. ],\n",
    "           [6.6, 2.9, 4.6, 1.3],\n",
    "           [5.2, 2.7, 3.9, 1.4],\n",
    "           [5. , 2. , 3.5, 1. ],\n",
    "           [5.9, 3. , 4.2, 1.5],\n",
    "           [6. , 2.2, 4. , 1. ],\n",
    "           [6.1, 2.9, 4.7, 1.4],\n",
    "           [5.6, 2.9, 3.6, 1.3],\n",
    "           [6.7, 3.1, 4.4, 1.4],\n",
    "           [5.6, 3. , 4.5, 1.5],\n",
    "           [5.8, 2.7, 4.1, 1. ],\n",
    "           [6.2, 2.2, 4.5, 1.5],\n",
    "           [5.6, 2.5, 3.9, 1.1],\n",
    "           [5.9, 3.2, 4.8, 1.8],\n",
    "           [6.1, 2.8, 4. , 1.3],\n",
    "           [6.3, 2.5, 4.9, 1.5],\n",
    "           [6.1, 2.8, 4.7, 1.2],\n",
    "           [6.4, 2.9, 4.3, 1.3],\n",
    "           [6.6, 3. , 4.4, 1.4],\n",
    "           [6.8, 2.8, 4.8, 1.4],\n",
    "           [6.7, 3. , 5. , 1.7],\n",
    "           [6. , 2.9, 4.5, 1.5],\n",
    "           [5.7, 2.6, 3.5, 1. ],\n",
    "           [5.5, 2.4, 3.8, 1.1],\n",
    "           [5.5, 2.4, 3.7, 1. ],\n",
    "           [5.8, 2.7, 3.9, 1.2],\n",
    "           [6. , 2.7, 5.1, 1.6],\n",
    "           [5.4, 3. , 4.5, 1.5],\n",
    "           [6. , 3.4, 4.5, 1.6],\n",
    "           [6.7, 3.1, 4.7, 1.5],\n",
    "           [6.3, 2.3, 4.4, 1.3],\n",
    "           [5.6, 3. , 4.1, 1.3],\n",
    "           [5.5, 2.5, 4. , 1.3],\n",
    "           [5.5, 2.6, 4.4, 1.2],\n",
    "           [6.1, 3. , 4.6, 1.4],\n",
    "           [5.8, 2.6, 4. , 1.2],\n",
    "           [5. , 2.3, 3.3, 1. ],\n",
    "           [5.6, 2.7, 4.2, 1.3],\n",
    "           [5.7, 3. , 4.2, 1.2],\n",
    "           [5.7, 2.9, 4.2, 1.3],\n",
    "           [6.2, 2.9, 4.3, 1.3],\n",
    "           [5.1, 2.5, 3. , 1.1],\n",
    "           [5.7, 2.8, 4.1, 1.3]])\n",
    "\n",
    "c = np.array([[6.3, 3.3, 6. , 2.5],                  # Iris Setosa\n",
    "              [5.8, 2.7, 5.1, 1.9],\n",
    "              [7.1, 3. , 5.9, 2.1],\n",
    "               [6.3, 2.9, 5.6, 1.8],\n",
    "               [6.5, 3. , 5.8, 2.2],\n",
    "               [7.6, 3. , 6.6, 2.1],\n",
    "               [4.9, 2.5, 4.5, 1.7],\n",
    "               [7.3, 2.9, 6.3, 1.8],\n",
    "               [6.7, 2.5, 5.8, 1.8],\n",
    "               [7.2, 3.6, 6.1, 2.5],\n",
    "               [6.5, 3.2, 5.1, 2. ],\n",
    "               [6.4, 2.7, 5.3, 1.9],\n",
    "               [6.8, 3. , 5.5, 2.1],\n",
    "               [5.7, 2.5, 5. , 2. ],\n",
    "               [5.8, 2.8, 5.1, 2.4],\n",
    "               [6.4, 3.2, 5.3, 2.3],\n",
    "               [6.5, 3. , 5.5, 1.8],\n",
    "               [7.7, 3.8, 6.7, 2.2],\n",
    "               [7.7, 2.6, 6.9, 2.3],\n",
    "               [6. , 2.2, 5. , 1.5],\n",
    "               [6.9, 3.2, 5.7, 2.3],\n",
    "               [5.6, 2.8, 4.9, 2. ],\n",
    "               [7.7, 2.8, 6.7, 2. ],\n",
    "               [6.3, 2.7, 4.9, 1.8],\n",
    "               [6.7, 3.3, 5.7, 2.1],\n",
    "               [7.2, 3.2, 6. , 1.8],\n",
    "               [6.2, 2.8, 4.8, 1.8],\n",
    "               [6.1, 3. , 4.9, 1.8],\n",
    "               [6.4, 2.8, 5.6, 2.1],\n",
    "               [7.2, 3. , 5.8, 1.6],\n",
    "               [7.4, 2.8, 6.1, 1.9],\n",
    "               [7.9, 3.8, 6.4, 2. ],\n",
    "               [6.4, 2.8, 5.6, 2.2],\n",
    "               [6.3, 2.8, 5.1, 1.5],\n",
    "               [6.1, 2.6, 5.6, 1.4],\n",
    "               [7.7, 3. , 6.1, 2.3],\n",
    "               [6.3, 3.4, 5.6, 2.4],\n",
    "               [6.4, 3.1, 5.5, 1.8],\n",
    "               [6. , 3. , 4.8, 1.8],\n",
    "               [6.9, 3.1, 5.4, 2.1],\n",
    "               [6.7, 3.1, 5.6, 2.4],\n",
    "               [6.9, 3.1, 5.1, 2.3],\n",
    "               [5.8, 2.7, 5.1, 1.9],\n",
    "               [6.8, 3.2, 5.9, 2.3],\n",
    "               [6.7, 3.3, 5.7, 2.5],\n",
    "               [6.7, 3. , 5.2, 2.3],\n",
    "               [6.3, 2.5, 5. , 1.9],\n",
    "               [6.5, 3. , 5.2, 2. ],\n",
    "               [6.2, 3.4, 5.4, 2.3],\n",
    "               [5.9, 3. , 5.1, 1.8]])\n",
    "\n",
    "F, p = f_oneway(a, b, c)\n",
    "F\n"
   ]
  },
  {
   "cell_type": "code",
   "execution_count": 14,
   "metadata": {},
   "outputs": [
    {
     "data": {
      "text/plain": [
       "array([1.66966919e-31, 4.49201713e-17, 2.85677661e-91, 4.16944584e-85])"
      ]
     },
     "execution_count": 14,
     "metadata": {},
     "output_type": "execute_result"
    }
   ],
   "source": [
    "p"
   ]
  },
  {
   "cell_type": "markdown",
   "metadata": {},
   "source": [
    "We have taken the Iris dataset with three flowers, Iris Virginica, Iris Versicolor and Iris Setosa. We have taken 4 attributes from each species of flower; namely, petal length and width and sepal length and width. In the above ANOVA test, I group 50 entries for each flower type into 3 arrays. We performed the ANOVA one-test as we were dealing with 3 flowers over 4 characteristics. As the F-Value is greater than 1, we can accept the assumed hypothesis."
   ]
  },
  {
   "cell_type": "markdown",
   "metadata": {},
   "source": [
    "<h1>Reference: </h1>\n",
    "<b>SciPy Article</b> - https://docs.scipy.org/doc/scipy/reference/generated/scipy.stats.f_oneway.html"
   ]
  }
 ],
 "metadata": {
  "kernelspec": {
   "display_name": "Python 3",
   "language": "python",
   "name": "python3"
  },
  "language_info": {
   "codemirror_mode": {
    "name": "ipython",
    "version": 3
   },
   "file_extension": ".py",
   "mimetype": "text/x-python",
   "name": "python",
   "nbconvert_exporter": "python",
   "pygments_lexer": "ipython3",
   "version": "3.8.5"
  }
 },
 "nbformat": 4,
 "nbformat_minor": 4
}
